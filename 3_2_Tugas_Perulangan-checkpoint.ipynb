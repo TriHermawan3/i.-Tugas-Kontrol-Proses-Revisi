{
 "cells": [
  {
   "cell_type": "code",
   "execution_count": null,
   "metadata": {
    "id": "fkV8YRAQlm-C"
   },
   "outputs": [],
   "source": []
  },
  {
   "cell_type": "markdown",
   "metadata": {
    "id": "lnkJ-zBHl3jp"
   },
   "source": [
    "## Access Element\n",
    "Keunikan lain dari looping dengan python adalah selain bahasa yang mudah dimengerti dalam looping, kita juga bisa mengakses elemen yang terdapat pada sebuah list. Berikut ini contohnya :\n",
    "``` javascript\n",
    "#Tugas 3.2.1\n",
    "count=[1,2,3,4,5] #elemen list\n",
    "\n",
    "for number in count: #looping untuk menampilkan semua elemen pada count\n",
    "    print(\"Ini adalah element count : \", number) #menampilkan elemen list pada count\n",
    "```\n",
    "Implekementasikan kode diatas, ketikan pada code cell di bawah ini, berikan penjelasan terkait kode diatas"
   ]
  },
  {
   "cell_type": "code",
   "execution_count": null,
   "metadata": {
    "id": "xYjQqqNLm-dB"
   },
   "outputs": [],
   "source": [
    "#Tugas 3.2.1\n",
    "count=[1,2,3,4,5] #elemen list\n",
    "\n",
    "for number in count: #looping untuk menampilkan semua elemen pada count\n",
    "    print(\"Ini adalah element count : \", number) #menampilkan elemen list pada count"
   ]
  },
  {
   "cell_type": "markdown",
   "metadata": {
    "id": "figDWKAcnZRA"
   },
   "source": [
    "## Tugas Praktek 3.2.2\n",
    "1. Buatlah sebuah program yang bisa mengeluarkan angka 1 sampai 10.\n",
    "1. Buatlah sebuah program yang bisa mengeluarkan angka -20 sampai -50.\n",
    "3. Tampilan akan menunjukan \"Angka ganjil 1\" untuk angka ganjil dan \"Angka genap 2\" untuk angka genap. (Menggunakan looping for)\n",
    "\n",
    "**Note:** Kode dasar sudah disertakan, Anda cukup mengganti tanda # dengan nilai-nilai yang sesuai."
   ]
  },
  {
   "cell_type": "code",
   "execution_count": 69,
   "metadata": {
    "id": "MElhruOTntzZ"
   },
   "outputs": [
    {
     "name": "stdout",
     "output_type": "stream",
     "text": [
      "Jawaban no 1\n",
      "Tampilkan angka :  1\n",
      "Tampilkan angka :  2\n",
      "Tampilkan angka :  3\n",
      "Tampilkan angka :  4\n",
      "Tampilkan angka :  5\n",
      "Tampilkan angka :  6\n",
      "Tampilkan angka :  7\n",
      "Tampilkan angka :  8\n",
      "Tampilkan angka :  9\n",
      "Tampilkan angka :  10\n"
     ]
    }
   ],
   "source": [
    "#Tugas Praktek 3.2.2\n",
    "\n",
    "print(\"Jawaban no 1\")\n",
    "count=[1,2,3,4,5,6,7,8,9,10] #elemen list\n",
    "\n",
    "for number in count: #looping untuk menampilkan semua elemen pada count\n",
    "    print(\"Tampilkan angka : \", number) #menampilkan elemen list pada count"
   ]
  },
  {
   "cell_type": "code",
   "execution_count": 59,
   "metadata": {
    "id": "NFtMjrQznuF2"
   },
   "outputs": [
    {
     "name": "stdout",
     "output_type": "stream",
     "text": [
      "Angka - 20\n",
      "Angka - 21\n",
      "Angka - 22\n",
      "Angka - 23\n",
      "Angka - 24\n",
      "Angka - 25\n",
      "Angka - 26\n",
      "Angka - 27\n",
      "Angka - 28\n",
      "Angka - 29\n",
      "Angka - 30\n",
      "Angka - 31\n",
      "Angka - 32\n",
      "Angka - 33\n",
      "Angka - 34\n",
      "Angka - 35\n",
      "Angka - 36\n",
      "Angka - 37\n",
      "Angka - 38\n",
      "Angka - 39\n",
      "Angka - 40\n",
      "Angka - 41\n",
      "Angka - 42\n",
      "Angka - 43\n",
      "Angka - 44\n",
      "Angka - 45\n",
      "Angka - 46\n",
      "Angka - 47\n",
      "Angka - 48\n",
      "Angka - 49\n",
      "Angka - 50\n"
     ]
    }
   ],
   "source": [
    "#Jawaban Tugas 3.2.1.2\n",
    "for i in range (20, 51):\n",
    "    print(\"Angka -\",i)"
   ]
  },
  {
   "cell_type": "code",
   "execution_count": 6,
   "metadata": {
    "id": "xpGigMPBpBy7"
   },
   "outputs": [
    {
     "name": "stdout",
     "output_type": "stream",
     "text": [
      "0 bernilai genap.\n",
      "1 bernilai ganjil.\n",
      "2 bernilai genap.\n",
      "3 bernilai ganjil.\n",
      "4 bernilai genap.\n",
      "5 bernilai ganjil.\n",
      "6 bernilai genap.\n",
      "7 bernilai ganjil.\n",
      "8 bernilai genap.\n",
      "9 bernilai ganjil.\n"
     ]
    }
   ],
   "source": [
    "#Jawaban Tugas 3.2.1.3\n",
    "\n",
    "for i in range(10):\n",
    "    # Jika i habis dibagi 2, maka i tersebut adalah bernilai genap\n",
    "    if (i%2==0):\n",
    "        print(i, \"bernilai genap.\")\n",
    "    else : # jika tidak?  maka i tersebut adalah bilangan ganjil\n",
    "            print(i, \"bernilai ganjil.\")"
   ]
  },
  {
   "cell_type": "code",
   "execution_count": null,
   "metadata": {},
   "outputs": [],
   "source": []
  },
  {
   "cell_type": "code",
   "execution_count": null,
   "metadata": {},
   "outputs": [],
   "source": []
  },
  {
   "cell_type": "code",
   "execution_count": null,
   "metadata": {},
   "outputs": [],
   "source": []
  },
  {
   "cell_type": "code",
   "execution_count": null,
   "metadata": {},
   "outputs": [],
   "source": []
  },
  {
   "cell_type": "code",
   "execution_count": null,
   "metadata": {},
   "outputs": [],
   "source": []
  }
 ],
 "metadata": {
  "colab": {
   "collapsed_sections": [],
   "name": "3.2_Tugas_Perulangan.ipynb",
   "provenance": []
  },
  "kernelspec": {
   "display_name": "Python 3",
   "language": "python",
   "name": "python3"
  },
  "language_info": {
   "codemirror_mode": {
    "name": "ipython",
    "version": 3
   },
   "file_extension": ".py",
   "mimetype": "text/x-python",
   "name": "python",
   "nbconvert_exporter": "python",
   "pygments_lexer": "ipython3",
   "version": "3.9.0"
  }
 },
 "nbformat": 4,
 "nbformat_minor": 1
}
